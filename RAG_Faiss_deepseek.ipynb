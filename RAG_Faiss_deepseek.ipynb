{
 "cells": [
  {
   "cell_type": "code",
   "execution_count": 1,
   "id": "684cb521-ba2c-43e2-a349-3acd347a391e",
   "metadata": {},
   "outputs": [
    {
     "name": "stdout",
     "output_type": "stream",
     "text": [
      "Requirement already satisfied: pymilvus==2.5.10 in e:\\anaconda\\lib\\site-packages (from pymilvus[model]==2.5.10) (2.5.10)\n",
      "Requirement already satisfied: openai==1.82.0 in e:\\anaconda\\lib\\site-packages (1.82.0)\n",
      "Requirement already satisfied: requests==2.32.3 in e:\\anaconda\\lib\\site-packages (2.32.3)\n",
      "Requirement already satisfied: tqdm==4.67.1 in e:\\anaconda\\lib\\site-packages (4.67.1)\n",
      "Requirement already satisfied: torch==2.7.0 in e:\\anaconda\\lib\\site-packages (2.7.0)\n",
      "Requirement already satisfied: setuptools>69 in e:\\anaconda\\lib\\site-packages (from pymilvus==2.5.10->pymilvus[model]==2.5.10) (72.1.0)\n",
      "Requirement already satisfied: grpcio<=1.67.1,>=1.49.1 in e:\\anaconda\\lib\\site-packages (from pymilvus==2.5.10->pymilvus[model]==2.5.10) (1.67.1)\n",
      "Requirement already satisfied: protobuf>=3.20.0 in e:\\anaconda\\lib\\site-packages (from pymilvus==2.5.10->pymilvus[model]==2.5.10) (5.29.3)\n",
      "Requirement already satisfied: python-dotenv<2.0.0,>=1.0.1 in e:\\anaconda\\lib\\site-packages (from pymilvus==2.5.10->pymilvus[model]==2.5.10) (1.1.0)\n",
      "Requirement already satisfied: ujson>=2.0.0 in e:\\anaconda\\lib\\site-packages (from pymilvus==2.5.10->pymilvus[model]==2.5.10) (5.10.0)\n",
      "Requirement already satisfied: pandas>=1.2.4 in e:\\anaconda\\lib\\site-packages (from pymilvus==2.5.10->pymilvus[model]==2.5.10) (2.2.3)\n",
      "Requirement already satisfied: anyio<5,>=3.5.0 in e:\\anaconda\\lib\\site-packages (from openai==1.82.0) (4.7.0)\n",
      "Requirement already satisfied: distro<2,>=1.7.0 in e:\\anaconda\\lib\\site-packages (from openai==1.82.0) (1.9.0)\n",
      "Requirement already satisfied: httpx<1,>=0.23.0 in e:\\anaconda\\lib\\site-packages (from openai==1.82.0) (0.28.1)\n",
      "Requirement already satisfied: jiter<1,>=0.4.0 in e:\\anaconda\\lib\\site-packages (from openai==1.82.0) (0.10.0)\n",
      "Requirement already satisfied: pydantic<3,>=1.9.0 in e:\\anaconda\\lib\\site-packages (from openai==1.82.0) (2.10.3)\n",
      "Requirement already satisfied: sniffio in e:\\anaconda\\lib\\site-packages (from openai==1.82.0) (1.3.0)\n",
      "Requirement already satisfied: typing-extensions<5,>=4.11 in e:\\anaconda\\lib\\site-packages (from openai==1.82.0) (4.12.2)\n",
      "Requirement already satisfied: charset-normalizer<4,>=2 in e:\\anaconda\\lib\\site-packages (from requests==2.32.3) (3.3.2)\n",
      "Requirement already satisfied: idna<4,>=2.5 in e:\\anaconda\\lib\\site-packages (from requests==2.32.3) (3.7)\n",
      "Requirement already satisfied: urllib3<3,>=1.21.1 in e:\\anaconda\\lib\\site-packages (from requests==2.32.3) (2.3.0)\n",
      "Requirement already satisfied: certifi>=2017.4.17 in e:\\anaconda\\lib\\site-packages (from requests==2.32.3) (2025.4.26)\n",
      "Requirement already satisfied: colorama in e:\\anaconda\\lib\\site-packages (from tqdm==4.67.1) (0.4.6)\n",
      "Requirement already satisfied: filelock in e:\\anaconda\\lib\\site-packages (from torch==2.7.0) (3.17.0)\n",
      "Requirement already satisfied: sympy>=1.13.3 in e:\\anaconda\\lib\\site-packages (from torch==2.7.0) (1.13.3)\n",
      "Requirement already satisfied: networkx in e:\\anaconda\\lib\\site-packages (from torch==2.7.0) (3.4.2)\n",
      "Requirement already satisfied: jinja2 in e:\\anaconda\\lib\\site-packages (from torch==2.7.0) (3.1.6)\n",
      "Requirement already satisfied: fsspec in e:\\anaconda\\lib\\site-packages (from torch==2.7.0) (2025.3.2)\n",
      "Requirement already satisfied: pymilvus.model>=0.3.0 in e:\\anaconda\\lib\\site-packages (from pymilvus[model]==2.5.10) (0.3.2)\n",
      "Requirement already satisfied: httpcore==1.* in e:\\anaconda\\lib\\site-packages (from httpx<1,>=0.23.0->openai==1.82.0) (1.0.9)\n",
      "Requirement already satisfied: h11>=0.16 in e:\\anaconda\\lib\\site-packages (from httpcore==1.*->httpx<1,>=0.23.0->openai==1.82.0) (0.16.0)\n",
      "Requirement already satisfied: annotated-types>=0.6.0 in e:\\anaconda\\lib\\site-packages (from pydantic<3,>=1.9.0->openai==1.82.0) (0.6.0)\n",
      "Requirement already satisfied: pydantic-core==2.27.1 in e:\\anaconda\\lib\\site-packages (from pydantic<3,>=1.9.0->openai==1.82.0) (2.27.1)\n",
      "Requirement already satisfied: numpy>=1.26.0 in e:\\anaconda\\lib\\site-packages (from pandas>=1.2.4->pymilvus==2.5.10->pymilvus[model]==2.5.10) (2.1.3)\n",
      "Requirement already satisfied: python-dateutil>=2.8.2 in e:\\anaconda\\lib\\site-packages (from pandas>=1.2.4->pymilvus==2.5.10->pymilvus[model]==2.5.10) (2.9.0.post0)\n",
      "Requirement already satisfied: pytz>=2020.1 in e:\\anaconda\\lib\\site-packages (from pandas>=1.2.4->pymilvus==2.5.10->pymilvus[model]==2.5.10) (2024.1)\n",
      "Requirement already satisfied: tzdata>=2022.7 in e:\\anaconda\\lib\\site-packages (from pandas>=1.2.4->pymilvus==2.5.10->pymilvus[model]==2.5.10) (2025.2)\n",
      "Requirement already satisfied: transformers>=4.36.0 in e:\\anaconda\\lib\\site-packages (from pymilvus.model>=0.3.0->pymilvus[model]==2.5.10) (4.56.0)\n",
      "Requirement already satisfied: onnxruntime in e:\\anaconda\\lib\\site-packages (from pymilvus.model>=0.3.0->pymilvus[model]==2.5.10) (1.22.1)\n",
      "Requirement already satisfied: scipy>=1.10.0 in e:\\anaconda\\lib\\site-packages (from pymilvus.model>=0.3.0->pymilvus[model]==2.5.10) (1.15.3)\n",
      "Requirement already satisfied: six>=1.5 in e:\\anaconda\\lib\\site-packages (from python-dateutil>=2.8.2->pandas>=1.2.4->pymilvus==2.5.10->pymilvus[model]==2.5.10) (1.17.0)\n",
      "Requirement already satisfied: mpmath<1.4,>=1.1.0 in e:\\anaconda\\lib\\site-packages (from sympy>=1.13.3->torch==2.7.0) (1.3.0)\n",
      "Requirement already satisfied: huggingface-hub<1.0,>=0.34.0 in e:\\anaconda\\lib\\site-packages (from transformers>=4.36.0->pymilvus.model>=0.3.0->pymilvus[model]==2.5.10) (0.34.4)\n",
      "Requirement already satisfied: packaging>=20.0 in e:\\anaconda\\lib\\site-packages (from transformers>=4.36.0->pymilvus.model>=0.3.0->pymilvus[model]==2.5.10) (24.2)\n",
      "Requirement already satisfied: pyyaml>=5.1 in e:\\anaconda\\lib\\site-packages (from transformers>=4.36.0->pymilvus.model>=0.3.0->pymilvus[model]==2.5.10) (6.0.2)\n",
      "Requirement already satisfied: regex!=2019.12.17 in e:\\anaconda\\lib\\site-packages (from transformers>=4.36.0->pymilvus.model>=0.3.0->pymilvus[model]==2.5.10) (2024.11.6)\n",
      "Requirement already satisfied: tokenizers<=0.23.0,>=0.22.0 in e:\\anaconda\\lib\\site-packages (from transformers>=4.36.0->pymilvus.model>=0.3.0->pymilvus[model]==2.5.10) (0.22.0)\n",
      "Requirement already satisfied: safetensors>=0.4.3 in e:\\anaconda\\lib\\site-packages (from transformers>=4.36.0->pymilvus.model>=0.3.0->pymilvus[model]==2.5.10) (0.6.2)\n",
      "Requirement already satisfied: MarkupSafe>=2.0 in e:\\anaconda\\lib\\site-packages (from jinja2->torch==2.7.0) (3.0.2)\n",
      "Requirement already satisfied: coloredlogs in e:\\anaconda\\lib\\site-packages (from onnxruntime->pymilvus.model>=0.3.0->pymilvus[model]==2.5.10) (15.0.1)\n",
      "Requirement already satisfied: flatbuffers in e:\\anaconda\\lib\\site-packages (from onnxruntime->pymilvus.model>=0.3.0->pymilvus[model]==2.5.10) (25.2.10)\n",
      "Requirement already satisfied: humanfriendly>=9.1 in e:\\anaconda\\lib\\site-packages (from coloredlogs->onnxruntime->pymilvus.model>=0.3.0->pymilvus[model]==2.5.10) (10.0)\n",
      "Requirement already satisfied: pyreadline3 in e:\\anaconda\\lib\\site-packages (from humanfriendly>=9.1->coloredlogs->onnxruntime->pymilvus.model>=0.3.0->pymilvus[model]==2.5.10) (3.5.4)\n"
     ]
    }
   ],
   "source": [
    "!pip install \"pymilvus[model]==2.5.10\" openai==1.82.0 requests==2.32.3 tqdm==4.67.1 torch==2.7.0"
   ]
  },
  {
   "cell_type": "code",
   "execution_count": 2,
   "id": "4f26d991-5842-4778-82f2-d3d1b975f8fb",
   "metadata": {},
   "outputs": [
    {
     "name": "stdout",
     "output_type": "stream",
     "text": [
      "sk-e7f0cd5b1a7a4d9f93e29f00a8145705\n"
     ]
    }
   ],
   "source": [
    "import os\n",
    "\n",
    "# 从环境变量获取 DeepSeek API Key\n",
    "api_key = \"sk-e7f0cd5b1a7a4d9f93e29f00a8145705\"\n",
    "print(api_key)"
   ]
  },
  {
   "cell_type": "code",
   "execution_count": 3,
   "id": "c3a1bcaf-f219-4b5b-b2e5-21b5ca99d78a",
   "metadata": {},
   "outputs": [],
   "source": [
    "from glob import glob\n",
    "\n",
    "text_lines = []\n",
    "\n",
    "for file_path in glob(\"milvus_docs_2.4.x_en/en/faq/*.md\", recursive=True):\n",
    "    with open(file_path, \"r\") as file:\n",
    "        file_text = file.read()\n",
    "\n",
    "    text_lines += file_text.split(\"# \")"
   ]
  },
  {
   "cell_type": "code",
   "execution_count": 4,
   "id": "b1557ac4-3b1b-4c05-b763-71349e809071",
   "metadata": {},
   "outputs": [
    {
     "data": {
      "text/plain": [
       "72"
      ]
     },
     "execution_count": 4,
     "metadata": {},
     "output_type": "execute_result"
    }
   ],
   "source": [
    "len(text_lines)"
   ]
  },
  {
   "cell_type": "code",
   "execution_count": 5,
   "id": "a0404045-7883-4158-a0a4-86c63e8d0f8e",
   "metadata": {},
   "outputs": [],
   "source": [
    "from openai import OpenAI\n",
    "\n",
    "deepseek_client = OpenAI(\n",
    "    api_key=api_key,\n",
    "    base_url=\"https://api.deepseek.com/v1\",  # DeepSeek API 的基地址\n",
    ")"
   ]
  },
  {
   "cell_type": "code",
   "execution_count": 6,
   "id": "7816495d-7e45-4d2e-8bfc-6afde60b8165",
   "metadata": {},
   "outputs": [],
   "source": [
    "from glob import glob\n",
    "\n",
    "text_lines = []\n",
    "\n",
    "for file_path in glob(\"milvus_docs_2.4.x_en/en/faq/*.md\", recursive=True):\n",
    "    with open(file_path, \"r\") as file:\n",
    "        file_text = file.read()\n",
    "\n",
    "    text_lines += file_text.split(\"# \")"
   ]
  },
  {
   "cell_type": "code",
   "execution_count": 7,
   "id": "449ca844-8b32-45af-943f-b84ddb047743",
   "metadata": {},
   "outputs": [
    {
     "data": {
      "text/plain": [
       "72"
      ]
     },
     "execution_count": 7,
     "metadata": {},
     "output_type": "execute_result"
    }
   ],
   "source": [
    "len(text_lines)"
   ]
  },
  {
   "cell_type": "code",
   "execution_count": 8,
   "id": "203652f6-8f95-446e-a1d6-3c03d65a38e2",
   "metadata": {},
   "outputs": [
    {
     "name": "stdout",
     "output_type": "stream",
     "text": [
      "Operational FAQ\n",
      "\n",
      "<!-- TOC -->\n",
      "\n",
      "\n",
      "<!-- /TOC -->\n",
      "\n",
      "###\n"
     ]
    }
   ],
   "source": [
    "print(text_lines[1])"
   ]
  },
  {
   "cell_type": "code",
   "execution_count": 9,
   "id": "b17dabea-a72d-4681-8f01-8030919d9bad",
   "metadata": {},
   "outputs": [],
   "source": [
    "from openai import OpenAI\n",
    "\n",
    "deepseek_client = OpenAI(\n",
    "    api_key=api_key,\n",
    "    base_url=\"https://api.deepseek.com/v1\",  # DeepSeek API 的基地址\n",
    ")"
   ]
  },
  {
   "cell_type": "code",
   "execution_count": 10,
   "id": "8ac88542-e9ce-4d5f-9ca7-b2bea20535cb",
   "metadata": {},
   "outputs": [],
   "source": [
    "from pymilvus import model as milvus_model\n",
    "\n",
    "embedding_model = milvus_model.DefaultEmbeddingFunction()"
   ]
  },
  {
   "cell_type": "code",
   "execution_count": 11,
   "id": "d0a21b4b-4b3b-425e-8f70-af6702045da4",
   "metadata": {},
   "outputs": [
    {
     "name": "stdout",
     "output_type": "stream",
     "text": [
      "768\n",
      "[-0.04836059  0.07163021 -0.01130063 -0.03789341 -0.03320651 -0.01318453\n",
      " -0.03041721 -0.02269495 -0.02317858 -0.00426026]\n"
     ]
    }
   ],
   "source": [
    "test_embedding = embedding_model.encode_queries([\"This is a test\"])[0]\n",
    "embedding_dim = len(test_embedding)\n",
    "print(embedding_dim)\n",
    "print(test_embedding[:10])"
   ]
  },
  {
   "cell_type": "code",
   "execution_count": 12,
   "id": "8b565e57-f70e-464c-83c9-7dd1e65ce1bf",
   "metadata": {},
   "outputs": [
    {
     "name": "stdout",
     "output_type": "stream",
     "text": [
      "[-0.02752976  0.0608853   0.00388525 -0.00215193 -0.02774976 -0.0118618\n",
      " -0.04020916 -0.06023417 -0.03813156  0.0100272 ]\n"
     ]
    }
   ],
   "source": [
    "test_embedding_0 = embedding_model.encode_queries([\"That is a test\"])[0]\n",
    "print(test_embedding_0[:10])"
   ]
  },
  {
   "cell_type": "code",
   "execution_count": 13,
   "id": "4896c2cd-4065-4c7e-b68f-4181f82b3da3",
   "metadata": {},
   "outputs": [
    {
     "name": "stdout",
     "output_type": "stream",
     "text": [
      "Requirement already satisfied: faiss-cpu in e:\\anaconda\\lib\\site-packages (1.12.0)\n",
      "Requirement already satisfied: numpy<3.0,>=1.25.0 in e:\\anaconda\\lib\\site-packages (from faiss-cpu) (2.1.3)\n",
      "Requirement already satisfied: packaging in e:\\anaconda\\lib\\site-packages (from faiss-cpu) (24.2)\n",
      "Note: you may need to restart the kernel to use updated packages.\n"
     ]
    }
   ],
   "source": [
    "pip install faiss-cpu"
   ]
  },
  {
   "cell_type": "code",
   "execution_count": 14,
   "id": "84e2ba61-0192-4a39-9237-1cb9df3b21aa",
   "metadata": {},
   "outputs": [
    {
     "name": "stdout",
     "output_type": "stream",
     "text": [
      "🔍 检查集合 my_rag_collection 是否存在：否\n",
      "🔍 检查集合 my_rag_collection 是否存在：否\n",
      "✅ 集合 my_rag_collection 创建成功\n",
      "✅ 向集合插入 3 条数据成功\n",
      "\n",
      "📊 检索到的相似文本：\n",
      "1. 文本1：机器学习基础\n",
      "2. 文本2：深度学习实战\n"
     ]
    }
   ],
   "source": [
    "import faiss\n",
    "import numpy as np\n",
    "\n",
    "class FaissVectorStore:\n",
    "    def __init__(self, dim):\n",
    "        self.dim = dim  # 向量维度\n",
    "        self.index = faiss.IndexFlatL2(dim)  # FAISS 索引\n",
    "        self.vectors = []  # 存储原始向量\n",
    "        self.texts = []    # 存储向量对应文本\n",
    "        self.collection_exists = False  # 标记集合是否存在（核心：替代 Milvus 的集合存在判断）\n",
    "\n",
    "    def has_collection(self, collection_name):\n",
    "        \"\"\"判断集合是否存在（对应 Milvus 的 has_collection）\"\"\"\n",
    "        # 这里靠 self.collection_exists 标记，实际项目可按需求扩展（如多集合管理）\n",
    "        print(f\"🔍 检查集合 {collection_name} 是否存在：{'是' if self.collection_exists else '否'}\")\n",
    "        return self.collection_exists\n",
    "\n",
    "    def drop_collection(self, collection_name):\n",
    "        \"\"\"删除集合（对应 Milvus 的 drop_collection）\"\"\"\n",
    "        if self.collection_exists:\n",
    "            # 清空索引和数据，重置集合状态\n",
    "            self.index = faiss.IndexFlatL2(self.dim)\n",
    "            self.vectors = []\n",
    "            self.texts = []\n",
    "            self.collection_exists = False\n",
    "            print(f\"🗑️  集合 {collection_name} 已删除\")\n",
    "        else:\n",
    "            print(f\"⚠️  集合 {collection_name} 不存在，无需删除\")\n",
    "\n",
    "    def create_collection(self, collection_name):\n",
    "        \"\"\"创建集合（对应 Milvus 的 create_collection）\"\"\"\n",
    "        # 先判断集合是否存在，存在则删除（对应你原本的逻辑）\n",
    "        if self.has_collection(collection_name):\n",
    "            self.drop_collection(collection_name)\n",
    "        # 标记集合为存在状态\n",
    "        self.collection_exists = True\n",
    "        print(f\"✅ 集合 {collection_name} 创建成功\")\n",
    "        return True\n",
    "\n",
    "    def insert(self, vectors, texts):\n",
    "        \"\"\"插入向量（对应 Milvus 的 insert）\"\"\"\n",
    "        if not self.collection_exists:\n",
    "            raise ValueError(\"❌ 请先创建集合再插入数据！\")\n",
    "        vectors = np.array(vectors, dtype=np.float32)\n",
    "        self.index.add(vectors)\n",
    "        self.vectors.extend(vectors)\n",
    "        self.texts.extend(texts)\n",
    "        print(f\"✅ 向集合插入 {len(vectors)} 条数据成功\")\n",
    "        return len(vectors)\n",
    "\n",
    "    def search(self, query_vector, top_k=3):\n",
    "        \"\"\"检索相似向量（对应 Milvus 的 search）\"\"\"\n",
    "        if not self.collection_exists:\n",
    "            raise ValueError(\"❌ 请先创建集合再检索数据！\")\n",
    "        query_vector = np.array([query_vector], dtype=np.float32)\n",
    "        distances, indices = self.index.search(query_vector, top_k)\n",
    "        similar_texts = [self.texts[i] for i in indices[0] if i < len(self.texts)]\n",
    "        return similar_texts\n",
    "\n",
    "# ------------------- 测试：完全复现你原本的 Milvus 逻辑 -------------------\n",
    "if __name__ == \"__main__\":\n",
    "    # 1. 初始化向量存储（假设文本嵌入维度为 3，实际用 768）\n",
    "    vector_store = FaissVectorStore(dim=3)\n",
    "    collection_name = \"my_rag_collection\"\n",
    "\n",
    "    # 2. 核心逻辑：判断集合是否存在 → 存在则删除 → 创建新集合（和你原本代码一致）\n",
    "    if vector_store.has_collection(collection_name):\n",
    "        vector_store.drop_collection(collection_name)\n",
    "    vector_store.create_collection(collection_name)\n",
    "\n",
    "    # 3. 插入数据（模拟文本嵌入后的向量）\n",
    "    test_vectors = [\n",
    "        [0.1, 0.2, 0.3],\n",
    "        [0.4, 0.5, 0.6],\n",
    "        [0.7, 0.8, 0.9]\n",
    "    ]\n",
    "    test_texts = [\n",
    "        \"文本1：机器学习基础\",\n",
    "        \"文本2：深度学习实战\",\n",
    "        \"文本3：向量数据库原理\"\n",
    "    ]\n",
    "    vector_store.insert(test_vectors, test_texts)\n",
    "\n",
    "    # 4. 检索相似文本（模拟 RAG 查询）\n",
    "    query_vector = [0.15, 0.25, 0.35]  # 模拟问题嵌入向量\n",
    "    similar_texts = vector_store.search(query_vector, top_k=2)\n",
    "    print(\"\\n📊 检索到的相似文本：\")\n",
    "    for i, text in enumerate(similar_texts, 1):\n",
    "        print(f\"{i}. {text}\")"
   ]
  },
  {
   "cell_type": "code",
   "execution_count": 15,
   "id": "f331d37a-7044-440c-b436-19f058c5ec79",
   "metadata": {},
   "outputs": [
    {
     "name": "stdout",
     "output_type": "stream",
     "text": [
      "🔍 检查集合 my_rag_collection 是否存在：否\n",
      "✅ 集合 my_rag_collection 创建成功\n",
      "  - 向量维度：768\n",
      "  - 距离类型：IP（内积）\n",
      "  - 说明：Faiss 本地索引无需 'consistency_level' 配置，Strong 仅作兼容保留\n",
      "✅ 向集合 my_rag_collection 插入 5 条数据成功\n",
      "\n",
      "📊 检索到的相似文本（top 2）：\n",
      "1. 文本3：RAG 示例内容\n",
      "2. 文本4：RAG 示例内容\n"
     ]
    }
   ],
   "source": [
    "import faiss\n",
    "import numpy as np\n",
    "\n",
    "class FaissVectorStore:\n",
    "    def __init__(self):\n",
    "        self.index = None  # 初始化索引为None（未创建集合时无索引）\n",
    "        self.vectors = []  # 存储原始向量\n",
    "        self.texts = []    # 存储向量对应文本\n",
    "        self.collection_exists = False  # 标记集合是否存在\n",
    "\n",
    "    def has_collection(self, collection_name):\n",
    "        print(f\"🔍 检查集合 {collection_name} 是否存在：{'是' if self.collection_exists else '否'}\")\n",
    "        return self.collection_exists\n",
    "\n",
    "    def drop_collection(self, collection_name):\n",
    "        if self.collection_exists:\n",
    "            self.index = None  # 清空索引\n",
    "            self.vectors = []\n",
    "            self.texts = []\n",
    "            self.collection_exists = False\n",
    "            print(f\"🗑️  集合 {collection_name} 已删除\")\n",
    "        else:\n",
    "            print(f\"⚠️  集合 {collection_name} 不存在，无需删除\")\n",
    "\n",
    "    # ------------------- 核心修改：适配 Faiss 的 create_collection -------------------\n",
    "    def create_collection(\n",
    "        self,\n",
    "        collection_name: str,\n",
    "        dimension: int,  # 对应 Milvus 的 dimension（向量维度）\n",
    "        metric_type: str = \"IP\",  # 对应 Milvus 的 metric_type（距离计算方式）\n",
    "        consistency_level: str = \"Strong\"  # Faiss 无需此配置，仅保留参数兼容\n",
    "    ):\n",
    "        # 1. 先删除已存在的集合（保持和 Milvus 逻辑一致）\n",
    "        if self.has_collection(collection_name):\n",
    "            self.drop_collection(collection_name)\n",
    "        \n",
    "        # 2. 根据 metric_type 初始化 Faiss 索引（核心：Faiss 用不同索引类对应距离类型）\n",
    "        if metric_type == \"IP\":\n",
    "            # IP（内积）：Faiss 用 IndexFlatIP 实现内积距离计算\n",
    "            self.index = faiss.IndexFlatIP(dimension)\n",
    "        elif metric_type == \"L2\":\n",
    "            # L2（欧氏距离）：Faiss 用 IndexFlatL2 实现，兼容 Milvus 默认逻辑\n",
    "            self.index = faiss.IndexFlatL2(dimension)\n",
    "        else:\n",
    "            raise ValueError(f\"❌ Faiss 暂不支持该 metric_type：{metric_type}，仅支持 'IP' 或 'L2'\")\n",
    "        \n",
    "        # 3. 标记集合创建成功（Faiss 无分布式特性，consistency_level 仅注释说明，无需实际配置）\n",
    "        self.collection_exists = True\n",
    "        print(f\"✅ 集合 {collection_name} 创建成功\")\n",
    "        print(f\"  - 向量维度：{dimension}\")\n",
    "        print(f\"  - 距离类型：{metric_type}（内积）\")\n",
    "        print(f\"  - 说明：Faiss 本地索引无需 'consistency_level' 配置，{consistency_level} 仅作兼容保留\")\n",
    "\n",
    "    def insert(self, vectors, texts):\n",
    "        if not self.collection_exists or self.index is None:\n",
    "            raise ValueError(\"❌ 请先调用 create_collection 创建集合再插入数据！\")\n",
    "        # Faiss 要求向量为 float32 类型，需转换格式\n",
    "        vectors = np.array(vectors, dtype=np.float32)\n",
    "        self.index.add(vectors)  # 插入向量到 Faiss 索引\n",
    "        self.vectors.extend(vectors)\n",
    "        self.texts.extend(texts)\n",
    "        print(f\"✅ 向集合 {collection_name} 插入 {len(vectors)} 条数据成功\")\n",
    "\n",
    "    def search(self, query_vector, top_k=3):\n",
    "        if not self.collection_exists or self.index is None:\n",
    "            raise ValueError(\"❌ 请先调用 create_collection 创建集合再检索数据！\")\n",
    "        query_vector = np.array([query_vector], dtype=np.float32)\n",
    "        distances, indices = self.index.search(query_vector, top_k)  # Faiss 检索\n",
    "        # 提取检索结果对应的文本\n",
    "        similar_texts = [self.texts[i] for i in indices[0] if i < len(self.texts)]\n",
    "        return similar_texts\n",
    "\n",
    "\n",
    "# ------------------- 测试：完全复用你原本的调用格式 -------------------\n",
    "if __name__ == \"__main__\":\n",
    "    # 1. 初始化 Faiss 向量存储\n",
    "    vector_store = FaissVectorStore()\n",
    "    collection_name = \"my_rag_collection\"\n",
    "    embedding_dim = 768  # 示例：文本嵌入常用维度（如 BERT 类模型输出）\n",
    "\n",
    "    # 2. 完全复用你原本的 Milvus create_collection 调用格式！\n",
    "    vector_store.create_collection(\n",
    "        collection_name=collection_name,\n",
    "        dimension=embedding_dim,\n",
    "        metric_type=\"IP\",  # 内积距离，和 Milvus 配置一致\n",
    "        consistency_level=\"Strong\"  # 保留参数，Faiss 无需实际配置\n",
    "    )\n",
    "\n",
    "    # 3. 插入示例数据（模拟文本嵌入后的向量）\n",
    "    test_vectors = [np.random.random(embedding_dim).astype(\"float32\") for _ in range(5)]\n",
    "    test_texts = [f\"文本{i+1}：RAG 示例内容\" for i in range(5)]\n",
    "    vector_store.insert(test_vectors, test_texts)\n",
    "\n",
    "    # 4. 检索示例（模拟问题嵌入向量）\n",
    "    query_vector = np.random.random(embedding_dim).astype(\"float32\")\n",
    "    results = vector_store.search(query_vector, top_k=2)\n",
    "    print(f\"\\n📊 检索到的相似文本（top 2）：\")\n",
    "    for idx, text in enumerate(results, 1):\n",
    "        print(f\"{idx}. {text}\")"
   ]
  },
  {
   "cell_type": "code",
   "execution_count": 16,
   "id": "f0d5c538-9c13-4b8e-ad7a-d6f016c065aa",
   "metadata": {},
   "outputs": [
    {
     "name": "stderr",
     "output_type": "stream",
     "text": [
      "Creating embeddings: 100%|█████████████████████████████████████████████████████████| 72/72 [00:00<00:00, 246723.76it/s]"
     ]
    },
    {
     "name": "stdout",
     "output_type": "stream",
     "text": [
      "✅ 向集合 my_rag_collection 插入 72 条数据成功\n"
     ]
    },
    {
     "name": "stderr",
     "output_type": "stream",
     "text": [
      "\n"
     ]
    }
   ],
   "source": [
    "from tqdm import tqdm\n",
    "import numpy as np  # 需导入numpy处理向量格式\n",
    "\n",
    "# ------------------- 1. 生成文档嵌入（你的原有代码，无需改） -------------------\n",
    "doc_embeddings = embedding_model.encode_documents(text_lines)  # 假设输出是 list 或 numpy 数组\n",
    "\n",
    "# ------------------- 2. 数据格式转换（核心修改：适配 Faiss） -------------------\n",
    "data = []\n",
    "for i, line in enumerate(tqdm(text_lines, desc=\"Creating embeddings\")):\n",
    "    data.append({\"id\": i, \"vector\": doc_embeddings[i], \"text\": line})\n",
    "\n",
    "# 拆解为 Faiss 需要的「向量列表」和「文本列表」，并转换向量为 float32 类型\n",
    "insert_vectors = []\n",
    "insert_texts = []\n",
    "for item in data:\n",
    "    # Faiss 要求向量是 float32 类型的 numpy 数组（避免精度问题）\n",
    "    vec = np.array(item[\"vector\"], dtype=np.float32)\n",
    "    insert_vectors.append(vec)\n",
    "    insert_texts.append(item[\"text\"])\n",
    "\n",
    "# ------------------- 3. 调用 FaissVectorStore 插入数据（修改调用方式） -------------------\n",
    "vector_store.insert(vectors=insert_vectors, texts=insert_texts)  # 对应封装的 insert 方法"
   ]
  },
  {
   "cell_type": "markdown",
   "id": "9f1023b9-6d12-44c2-806e-1d0eb87bd70c",
   "metadata": {},
   "source": [
    "### 构建RAG"
   ]
  },
  {
   "cell_type": "markdown",
   "id": "b3196e7a-40f8-4f75-a898-53fd41e7b137",
   "metadata": {},
   "source": [
    "- 确保 FaissVectorStore 类定义正确"
   ]
  },
  {
   "cell_type": "code",
   "execution_count": 17,
   "id": "babcd88a-a281-4312-99f2-645fab2cf07b",
   "metadata": {},
   "outputs": [],
   "source": [
    "import faiss\n",
    "import numpy as np\n",
    "\n",
    "class FaissVectorStore:\n",
    "    def __init__(self):\n",
    "        self.index = None\n",
    "        self.vectors = []\n",
    "        self.texts = []\n",
    "        self.collection_exists = False\n",
    "\n",
    "    def has_collection(self, collection_name):\n",
    "        return self.collection_exists\n",
    "\n",
    "    def drop_collection(self, collection_name):\n",
    "        if self.collection_exists:\n",
    "            self.index = None\n",
    "            self.vectors = []\n",
    "            self.texts = []\n",
    "            self.collection_exists = False\n",
    "            print(f\"🗑️  集合 {collection_name} 已删除\")\n",
    "\n",
    "    def create_collection(\n",
    "        self,\n",
    "        collection_name: str,\n",
    "        dimension: int,\n",
    "        metric_type: str = \"IP\",\n",
    "        consistency_level: str = \"Strong\"\n",
    "    ):\n",
    "        if self.has_collection(collection_name):\n",
    "            self.drop_collection(collection_name)\n",
    "        \n",
    "        if metric_type == \"IP\":\n",
    "            self.index = faiss.IndexFlatIP(dimension)\n",
    "        elif metric_type == \"L2\":\n",
    "            self.index = faiss.IndexFlatL2(dimension)\n",
    "        else:\n",
    "            raise ValueError(f\"❌ Faiss 仅支持 'IP'/'L2'，不支持 {metric_type}\")\n",
    "        \n",
    "        self.collection_exists = True\n",
    "        print(f\"✅ 集合 {collection_name} 创建成功（维度：{dimension}，距离：{metric_type}）\")\n",
    "\n",
    "    def insert(self, vectors, texts):\n",
    "        if not self.collection_exists or self.index is None:\n",
    "            raise ValueError(\"❌ 请先创建集合！\")\n",
    "        vectors = np.array(vectors, dtype=np.float32)\n",
    "        self.index.add(vectors)\n",
    "        self.vectors.extend(vectors)\n",
    "        self.texts.extend(texts)\n",
    "        print(f\"✅ 插入 {len(vectors)} 条数据成功\")\n",
    "\n",
    "    def search(self, query_vector, top_k=3):\n",
    "        if not self.collection_exists or self.index is None:\n",
    "            raise ValueError(\"❌ 请先创建集合！\")\n",
    "        query_vector = np.array([query_vector], dtype=np.float32)\n",
    "        distances, indices = self.index.search(query_vector, top_k)\n",
    "        return [self.texts[i] for i in indices[0] if i < len(self.texts)]\n",
    "\n",
    "    def search_with_distance(self, query_vector, top_k=3):\n",
    "        if not self.collection_exists or self.index is None:\n",
    "            raise ValueError(\"❌ 请先创建集合并插入数据！\")\n",
    "        \n",
    "        query_vector = np.array([query_vector], dtype=np.float32)\n",
    "        distances, indices = self.index.search(query_vector, top_k)\n",
    "        \n",
    "        similar_texts = []\n",
    "        valid_distances = []\n",
    "        for idx, dist in zip(indices[0], distances[0]):\n",
    "            if idx < len(self.texts):\n",
    "                similar_texts.append(self.texts[idx])\n",
    "                valid_distances.append(float(dist))\n",
    "        \n",
    "        return similar_texts, valid_distances"
   ]
  },
  {
   "cell_type": "markdown",
   "id": "01ad0b72-a216-49c1-b163-f89a3c02c7ec",
   "metadata": {},
   "source": [
    "- 按顺序执行 “初始化→创建集合→插入数据”"
   ]
  },
  {
   "cell_type": "code",
   "execution_count": 18,
   "id": "067193a4-9cf2-48cf-9f1e-9c59f3c78193",
   "metadata": {},
   "outputs": [
    {
     "name": "stdout",
     "output_type": "stream",
     "text": [
      "Requirement already satisfied: sentence-transformers in e:\\anaconda\\lib\\site-packages (5.1.0)\n",
      "Requirement already satisfied: transformers<5.0.0,>=4.41.0 in e:\\anaconda\\lib\\site-packages (from sentence-transformers) (4.56.0)\n",
      "Requirement already satisfied: tqdm in e:\\anaconda\\lib\\site-packages (from sentence-transformers) (4.67.1)\n",
      "Requirement already satisfied: torch>=1.11.0 in e:\\anaconda\\lib\\site-packages (from sentence-transformers) (2.7.0)\n",
      "Requirement already satisfied: scikit-learn in e:\\anaconda\\lib\\site-packages (from sentence-transformers) (1.6.1)\n",
      "Requirement already satisfied: scipy in e:\\anaconda\\lib\\site-packages (from sentence-transformers) (1.15.3)\n",
      "Requirement already satisfied: huggingface-hub>=0.20.0 in e:\\anaconda\\lib\\site-packages (from sentence-transformers) (0.34.4)\n",
      "Requirement already satisfied: Pillow in e:\\anaconda\\lib\\site-packages (from sentence-transformers) (11.1.0)\n",
      "Requirement already satisfied: typing_extensions>=4.5.0 in e:\\anaconda\\lib\\site-packages (from sentence-transformers) (4.12.2)\n",
      "Requirement already satisfied: filelock in e:\\anaconda\\lib\\site-packages (from transformers<5.0.0,>=4.41.0->sentence-transformers) (3.17.0)\n",
      "Requirement already satisfied: numpy>=1.17 in e:\\anaconda\\lib\\site-packages (from transformers<5.0.0,>=4.41.0->sentence-transformers) (2.1.3)\n",
      "Requirement already satisfied: packaging>=20.0 in e:\\anaconda\\lib\\site-packages (from transformers<5.0.0,>=4.41.0->sentence-transformers) (24.2)\n",
      "Requirement already satisfied: pyyaml>=5.1 in e:\\anaconda\\lib\\site-packages (from transformers<5.0.0,>=4.41.0->sentence-transformers) (6.0.2)\n",
      "Requirement already satisfied: regex!=2019.12.17 in e:\\anaconda\\lib\\site-packages (from transformers<5.0.0,>=4.41.0->sentence-transformers) (2024.11.6)\n",
      "Requirement already satisfied: requests in e:\\anaconda\\lib\\site-packages (from transformers<5.0.0,>=4.41.0->sentence-transformers) (2.32.3)\n",
      "Requirement already satisfied: tokenizers<=0.23.0,>=0.22.0 in e:\\anaconda\\lib\\site-packages (from transformers<5.0.0,>=4.41.0->sentence-transformers) (0.22.0)\n",
      "Requirement already satisfied: safetensors>=0.4.3 in e:\\anaconda\\lib\\site-packages (from transformers<5.0.0,>=4.41.0->sentence-transformers) (0.6.2)\n",
      "Requirement already satisfied: fsspec>=2023.5.0 in e:\\anaconda\\lib\\site-packages (from huggingface-hub>=0.20.0->sentence-transformers) (2025.3.2)\n",
      "Requirement already satisfied: sympy>=1.13.3 in e:\\anaconda\\lib\\site-packages (from torch>=1.11.0->sentence-transformers) (1.13.3)\n",
      "Requirement already satisfied: networkx in e:\\anaconda\\lib\\site-packages (from torch>=1.11.0->sentence-transformers) (3.4.2)\n",
      "Requirement already satisfied: jinja2 in e:\\anaconda\\lib\\site-packages (from torch>=1.11.0->sentence-transformers) (3.1.6)\n",
      "Requirement already satisfied: setuptools in e:\\anaconda\\lib\\site-packages (from torch>=1.11.0->sentence-transformers) (72.1.0)\n",
      "Requirement already satisfied: mpmath<1.4,>=1.1.0 in e:\\anaconda\\lib\\site-packages (from sympy>=1.13.3->torch>=1.11.0->sentence-transformers) (1.3.0)\n",
      "Requirement already satisfied: colorama in e:\\anaconda\\lib\\site-packages (from tqdm->sentence-transformers) (0.4.6)\n",
      "Requirement already satisfied: MarkupSafe>=2.0 in e:\\anaconda\\lib\\site-packages (from jinja2->torch>=1.11.0->sentence-transformers) (3.0.2)\n",
      "Requirement already satisfied: charset-normalizer<4,>=2 in e:\\anaconda\\lib\\site-packages (from requests->transformers<5.0.0,>=4.41.0->sentence-transformers) (3.3.2)\n",
      "Requirement already satisfied: idna<4,>=2.5 in e:\\anaconda\\lib\\site-packages (from requests->transformers<5.0.0,>=4.41.0->sentence-transformers) (3.7)\n",
      "Requirement already satisfied: urllib3<3,>=1.21.1 in e:\\anaconda\\lib\\site-packages (from requests->transformers<5.0.0,>=4.41.0->sentence-transformers) (2.3.0)\n",
      "Requirement already satisfied: certifi>=2017.4.17 in e:\\anaconda\\lib\\site-packages (from requests->transformers<5.0.0,>=4.41.0->sentence-transformers) (2025.4.26)\n",
      "Requirement already satisfied: joblib>=1.2.0 in e:\\anaconda\\lib\\site-packages (from scikit-learn->sentence-transformers) (1.4.2)\n",
      "Requirement already satisfied: threadpoolctl>=3.1.0 in e:\\anaconda\\lib\\site-packages (from scikit-learn->sentence-transformers) (3.5.0)\n"
     ]
    }
   ],
   "source": [
    "!pip install sentence-transformers"
   ]
  },
  {
   "cell_type": "code",
   "execution_count": 19,
   "id": "8255c31b-03d0-468a-b7f5-99e68aa6752e",
   "metadata": {},
   "outputs": [
    {
     "name": "stdout",
     "output_type": "stream",
     "text": [
      "✅ 集合 my_rag_collection 创建成功（维度：384，距离：IP）\n",
      "✅ 插入 3 条数据成功\n"
     ]
    }
   ],
   "source": [
    "# ------------------- 必须先执行的步骤 -------------------\n",
    "# 1. 初始化向量存储实例\n",
    "vector_store = FaissVectorStore()\n",
    "\n",
    "# 2. 定义集合名称和向量维度（维度必须与你的嵌入模型输出一致）\n",
    "collection_name = \"my_rag_collection\"\n",
    "embedding_dim = 384  # 示例：如果用 all-MiniLM-L6-v2 模型，维度是 384\n",
    "\n",
    "# 3. 创建集合（必须执行！）\n",
    "vector_store.create_collection(\n",
    "    collection_name=collection_name,\n",
    "    dimension=embedding_dim,\n",
    "    metric_type=\"IP\"  # 内积距离，与检索逻辑一致\n",
    ")\n",
    "\n",
    "# 4. 准备你的知识库数据（替换为你的实际文本）\n",
    "text_lines = [\n",
    "    \"判断 Milvus 是否启动成功的方法：1. 用 docker ps 查看容器状态为 Up；2. 查看日志是否有 'Milvus started successfully'；3. 客户端连接无错误。\",\n",
    "    \"Milvus 启动失败常见原因：端口占用、内存不足、镜像版本不兼容。\",\n",
    "    \"Milvus 是开源向量数据库，支持海量向量存储和检索。\"\n",
    "]\n",
    "\n",
    "# 5. 生成文档嵌入向量（替换为你的嵌入模型）\n",
    "from sentence_transformers import SentenceTransformer\n",
    "embedding_model = SentenceTransformer(\"all-MiniLM-L6-v2\")  # 示例模型\n",
    "doc_embeddings = embedding_model.encode(text_lines)  # 生成向量\n",
    "\n",
    "# 6. 插入数据到 Faiss（必须执行！）\n",
    "insert_vectors = [np.array(vec, dtype=np.float32) for vec in doc_embeddings]  # 转换格式\n",
    "insert_texts = text_lines\n",
    "vector_store.insert(vectors=insert_vectors, texts=insert_texts)\n",
    "# -------------------------------------------------------"
   ]
  },
  {
   "cell_type": "markdown",
   "id": "a14ba8eb-51de-42b2-9cf7-f6b9d75918ae",
   "metadata": {},
   "source": [
    "- 执行检索代码"
   ]
  },
  {
   "cell_type": "code",
   "execution_count": 20,
   "id": "aa8844fa-5bd8-4a06-b1e1-bd7a84568d09",
   "metadata": {},
   "outputs": [
    {
     "name": "stdout",
     "output_type": "stream",
     "text": [
      "[\n",
      "    [\n",
      "        \"判断 Milvus 是否启动成功的方法：1. 用 docker ps 查看容器状态为 Up；2. 查看日志是否有 'Milvus started successfully'；3. 客户端连接无错误。\",\n",
      "        0.435508131980896\n",
      "    ],\n",
      "    [\n",
      "        \"Milvus 是开源向量数据库，支持海量向量存储和检索。\",\n",
      "        0.2982614040374756\n",
      "    ],\n",
      "    [\n",
      "        \"Milvus 启动失败常见原因：端口占用、内存不足、镜像版本不兼容。\",\n",
      "        0.2323351502418518\n",
      "    ]\n",
      "]\n"
     ]
    }
   ],
   "source": [
    "# 1. 问题定义\n",
    "question = \"How do I know if Milvus has started successfully?\"\n",
    "\n",
    "# 2. 生成问题嵌入向量（核心修改：将 encode_queries 改为 encode）\n",
    "query_embedding = embedding_model.encode([question])[0]  # 用 encode 替代 encode_queries\n",
    "\n",
    "# 3. Faiss检索\n",
    "top_k = 3\n",
    "similar_texts, distances = vector_store.search_with_distance(\n",
    "    query_vector=query_embedding, \n",
    "    top_k=top_k\n",
    ")\n",
    "\n",
    "# 4. 整理并打印结果\n",
    "import json\n",
    "retrieved_lines_with_distances = list(zip(similar_texts, distances))\n",
    "print(json.dumps(retrieved_lines_with_distances, indent=4, ensure_ascii=False))"
   ]
  },
  {
   "cell_type": "markdown",
   "id": "5b9a7d81-9aac-4f6c-bdfe-521e03356a4d",
   "metadata": {},
   "source": [
    "### 使用 LLM 获取 RAG 响应"
   ]
  },
  {
   "cell_type": "code",
   "execution_count": 21,
   "id": "64a21008-5807-4cdd-825e-6d8ba3f7479f",
   "metadata": {},
   "outputs": [],
   "source": [
    "context = \"\\n\".join(\n",
    "    [line_with_distance[0] for line_with_distance in retrieved_lines_with_distances]\n",
    ")"
   ]
  },
  {
   "cell_type": "code",
   "execution_count": 22,
   "id": "58227acf-ccda-4d06-933d-26c1e57a7143",
   "metadata": {},
   "outputs": [
    {
     "data": {
      "text/plain": [
       "\"判断 Milvus 是否启动成功的方法：1. 用 docker ps 查看容器状态为 Up；2. 查看日志是否有 'Milvus started successfully'；3. 客户端连接无错误。\\nMilvus 是开源向量数据库，支持海量向量存储和检索。\\nMilvus 启动失败常见原因：端口占用、内存不足、镜像版本不兼容。\""
      ]
     },
     "execution_count": 22,
     "metadata": {},
     "output_type": "execute_result"
    }
   ],
   "source": [
    "context"
   ]
  },
  {
   "cell_type": "code",
   "execution_count": 23,
   "id": "5edc9cfc-c9d4-4d73-a951-26adb4f607e2",
   "metadata": {},
   "outputs": [
    {
     "data": {
      "text/plain": [
       "'How do I know if Milvus has started successfully?'"
      ]
     },
     "execution_count": 23,
     "metadata": {},
     "output_type": "execute_result"
    }
   ],
   "source": [
    "question"
   ]
  },
  {
   "cell_type": "code",
   "execution_count": 27,
   "id": "2db27460-a1d2-463f-afdb-5646cd8fd152",
   "metadata": {},
   "outputs": [],
   "source": [
    "# 定义系统提示\n",
    "SYSTEM_PROMPT = \"\"\"\n",
    "你是一个基于检索信息的问答助手。请严格遵循以下规则：\n",
    "1. 仅使用<context>中提供的信息回答<question>中的问题，不允许使用外部知识。\n",
    "2. 若上下文信息不足，直接说明\"根据提供的信息，无法回答该问题\"。\n",
    "3. 回答需简洁准确，用英文组织语言。\n",
    "4. 完成英文回答后，必须提供精准的中文翻译，放在<translated>标签内。\n",
    "\"\"\"\n",
    "\n",
    "USER_PROMPT = f\"\"\"\n",
    "<context>\n",
    "{context}\n",
    "</context>\n",
    "\n",
    "<question>\n",
    "{question}\n",
    "</question>\n",
    "\n",
    "# 任务要求：\n",
    "# 1. 首先，用英文回答<question>中的问题，回答必须严格基于<context>内的信息，禁止编造。\n",
    "# 2. 如果<context>信息不足以回答问题，请直接输出：\"Based on the provided information, I can't answer this question.\"\n",
    "# 3. 然后，在<translated></translated>标签内，提供上述英文回答的精准中文翻译。\n",
    "# 4. 输出格式示例：\n",
    "# [英文回答]\n",
    "# <translated>\n",
    "# [中文翻译]\n",
    "# </translated>\n",
    "\"\"\""
   ]
  },
  {
   "cell_type": "code",
   "execution_count": 28,
   "id": "a1a2ff5e-d17a-416b-908b-e6203ac05210",
   "metadata": {},
   "outputs": [
    {
     "data": {
      "text/plain": [
       "'\\n<context>\\n判断 Milvus 是否启动成功的方法：1. 用 docker ps 查看容器状态为 Up；2. 查看日志是否有 \\'Milvus started successfully\\'；3. 客户端连接无错误。\\nMilvus 是开源向量数据库，支持海量向量存储和检索。\\nMilvus 启动失败常见原因：端口占用、内存不足、镜像版本不兼容。\\n</context>\\n\\n<question>\\nHow do I know if Milvus has started successfully?\\n</question>\\n\\n# 任务要求：\\n# 1. 首先，用英文回答<question>中的问题，回答必须严格基于<context>内的信息，禁止编造。\\n# 2. 如果<context>信息不足以回答问题，请直接输出：\"Based on the provided information, I can\\'t answer this question.\"\\n# 3. 然后，在<translated></translated>标签内，提供上述英文回答的精准中文翻译。\\n# 4. 输出格式示例：\\n# [英文回答]\\n# <translated>\\n# [中文翻译]\\n# </translated>\\n'"
      ]
     },
     "execution_count": 28,
     "metadata": {},
     "output_type": "execute_result"
    }
   ],
   "source": [
    "USER_PROMPT"
   ]
  },
  {
   "cell_type": "markdown",
   "id": "0e9f342a-1961-40d7-980b-ae82983b6a32",
   "metadata": {},
   "source": [
    "- 使用 DeepSeek 提供的 deepseek-chat 模型根据提示生成响应。"
   ]
  },
  {
   "cell_type": "code",
   "execution_count": 29,
   "id": "dfd683fe-7f1d-4be5-a34c-006bf84c5cdd",
   "metadata": {},
   "outputs": [
    {
     "name": "stdout",
     "output_type": "stream",
     "text": [
      "To determine if Milvus has started successfully: 1. Check that the container status is \"Up\" using `docker ps`; 2. Verify the logs for the message 'Milvus started successfully'; 3. Ensure the client connects without errors.\n",
      "<translated>\n",
      "要判断 Milvus 是否启动成功：1. 使用 `docker ps` 查看容器状态是否为 \"Up\"；2. 检查日志中是否有 'Milvus started successfully' 消息；3. 确保客户端连接无错误。\n",
      "</translated>\n"
     ]
    }
   ],
   "source": [
    "response = deepseek_client.chat.completions.create(\n",
    "    model=\"deepseek-chat\",\n",
    "    messages=[\n",
    "        {\"role\": \"system\", \"content\": SYSTEM_PROMPT},\n",
    "        {\"role\": \"user\", \"content\": USER_PROMPT},\n",
    "    ],\n",
    ")\n",
    "print(response.choices[0].message.content)"
   ]
  },
  {
   "cell_type": "code",
   "execution_count": null,
   "id": "c7950aa2-90d6-4d43-b805-09f6cf4fd39a",
   "metadata": {},
   "outputs": [],
   "source": []
  }
 ],
 "metadata": {
  "kernelspec": {
   "display_name": "Python 3 (ipykernel)",
   "language": "python",
   "name": "python3"
  },
  "language_info": {
   "codemirror_mode": {
    "name": "ipython",
    "version": 3
   },
   "file_extension": ".py",
   "mimetype": "text/x-python",
   "name": "python",
   "nbconvert_exporter": "python",
   "pygments_lexer": "ipython3",
   "version": "3.13.5"
  }
 },
 "nbformat": 4,
 "nbformat_minor": 5
}
